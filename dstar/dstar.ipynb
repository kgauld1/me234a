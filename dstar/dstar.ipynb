{
 "cells": [
  {
   "cell_type": "code",
   "execution_count": null,
   "metadata": {},
   "outputs": [],
   "source": [
    "import numpy as np\n",
    "import matplotlib.pyplot as plt"
   ]
  },
  {
   "cell_type": "code",
   "execution_count": null,
   "metadata": {},
   "outputs": [],
   "source": [
    "map = np.zeros((150,100))\n",
    "map[20:40, 20:40] = -1\n",
    "map[20:40, 60:80] = -1\n",
    "plt.imshow(map)\n",
    "\n",
    "GOAL = (0, 50)"
   ]
  },
  {
   "cell_type": "code",
   "execution_count": null,
   "metadata": {},
   "outputs": [],
   "source": [
    "def get_adjacent(P, shape):\n",
    "    rlist = []\n",
    "    if 0 <= P[0] - 1 < shape[0]:\n",
    "        rlist.append((P[0]-1, P[1]))\n",
    "    if 0 <= P[0] + 1 < shape[0]:\n",
    "        rlist.append((P[0]+1, P[1]))\n",
    "    if 0 <= P[1] - 1 < shape[1]:\n",
    "        rlist.append((P[0], P[1]-1))\n",
    "    if 0 <= P[1] + 1 < shape[1]:\n",
    "        rlist.append((P[0], P[1]+1))\n",
    "    return rlist\n",
    "\n",
    "def dstar(map, GOAL):\n",
    "    cost_map = np.zeros(map.shape) + np.float(\"inf\")\n",
    "    cost_map[GOAL] = 0\n",
    "    backpointers = {GOAL:None}\n",
    "    OPEN = [GOAL]\n",
    "    CLOSED = []\n",
    "    while len(OPEN) > 0:\n",
    "        #OPEN = sorted(OPEN, key=lambda s:cost_map[s])\n",
    "        c = OPEN.pop(0)\n",
    "        ps = get_adjacent(c, map.shape)\n",
    "        for P in ps:\n",
    "            if P in CLOSED or P in OPEN or map[P] == -1:\n",
    "                continue\n",
    "            cost_map[P] = cost_map[c] + 1\n",
    "            backpointers[P] = c\n",
    "            OPEN.append(P)\n",
    "        CLOSED.append(c)\n",
    "        if len(CLOSED) %1000 == 0:\n",
    "            plt.imshow(cost_map)\n",
    "            plt.show()\n",
    "    return cost_map, backpointers\n"
   ]
  },
  {
   "cell_type": "code",
   "execution_count": null,
   "metadata": {},
   "outputs": [],
   "source": [
    "dstar_map, dstar_bp = dstar(map, GOAL)"
   ]
  },
  {
   "cell_type": "code",
   "execution_count": null,
   "metadata": {},
   "outputs": [],
   "source": [
    "\n",
    "plt.figure(figsize=(10,10))\n",
    "plt.imshow(dstar_map)"
   ]
  },
  {
   "cell_type": "code",
   "execution_count": 73,
   "metadata": {},
   "outputs": [],
   "source": [
    "def get_dstar_path(start, GOAL, dstar_map, dstar_bp):\n",
    "    path = [start]\n",
    "    ps = get_adjacent(path[-1], map.shape)\n",
    "    while GOAL not in ps:\n",
    "        ps = sorted(ps, key=lambda p: dstar_map[p])\n",
    "        path.append(ps[0])\n",
    "        ps = get_adjacent(path[-1], map.shape)\n",
    "    path.append(GOAL)\n",
    "    return path"
   ]
  },
  {
   "cell_type": "code",
   "execution_count": 122,
   "metadata": {},
   "outputs": [
    {
     "name": "stdout",
     "output_type": "stream",
     "text": [
      "(141, 95)\n"
     ]
    },
    {
     "data": {
      "text/plain": [
       "<matplotlib.image.AxesImage at 0x7fd5d8d80460>"
      ]
     },
     "execution_count": 122,
     "metadata": {},
     "output_type": "execute_result"
    },
    {
     "data": {
      "image/png": "[encoded data removed]",
      "text/plain": [
       "<Figure size 720x720 with 1 Axes>"
      ]
     },
     "metadata": {
      "needs_background": "light"
     },
     "output_type": "display_data"
    }
   ],
   "source": [
    "\n",
    "START = (int(np.random.rand()*150),\n",
    "         int(np.random.rand()*100))\n",
    "print(START)\n",
    "PATH = get_dstar_path(START, GOAL, dstar_map, dstar_bp)\n",
    "\n",
    "pathmap = dstar_map.copy()\n",
    "for P in PATH:\n",
    "    pathmap[P] = -100\n",
    "\n",
    "plt.figure(figsize=(10,10))\n",
    "plt.imshow(pathmap)"
   ]
  },
  {
   "cell_type": "code",
   "execution_count": null,
   "metadata": {},
   "outputs": [],
   "source": []
  }
 ],
 "metadata": {
  "kernelspec": {
   "display_name": "base",
   "language": "python",
   "name": "python3"
  },
  "language_info": {
   "codemirror_mode": {
    "name": "ipython",
    "version": 3
   },
   "file_extension": ".py",
   "mimetype": "text/x-python",
   "name": "python",
   "nbconvert_exporter": "python",
   "pygments_lexer": "ipython3",
   "version": "3.8.8"
  },
  "orig_nbformat": 4,
  "vscode": {
   "interpreter": {
    "hash": "d5ecb1748f467b5d4777d690805f96544439de96e9f967607df4f074097c46db"
   }
  }
 },
 "nbformat": 4,
 "nbformat_minor": 2
}
